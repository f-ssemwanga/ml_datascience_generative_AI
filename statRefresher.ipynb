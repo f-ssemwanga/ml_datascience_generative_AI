{
 "cells": [
  {
   "cell_type": "markdown",
   "metadata": {},
   "source": [
    "### Mean, Media and Mode\n",
    "\n",
    "#### Mean vs Media\n",
    "\n",
    "Let's create some fake income data, centred around 27,000 with a normal distribution and standard deviation of 15,000, with 10,000 data points. \n",
    "\n",
    "Then, compute the mean (average) - it should be close to 27,000:"
   ]
  },
  {
   "cell_type": "code",
   "execution_count": 1,
   "metadata": {},
   "outputs": [
    {
     "data": {
      "text/plain": [
       "27173.802407275987"
      ]
     },
     "execution_count": 1,
     "metadata": {},
     "output_type": "execute_result"
    }
   ],
   "source": [
    "import numpy as np\n",
    "incomes = np.random.normal(27000, 15000, 10000)\n",
    "np.mean(incomes)"
   ]
  },
  {
   "cell_type": "markdown",
   "metadata": {},
   "source": [
    "#### Segment income data into 50 buckets and plot it as a histogram"
   ]
  },
  {
   "cell_type": "code",
   "execution_count": 3,
   "metadata": {},
   "outputs": [
    {
     "data": {
      "image/png": "[encoded data removed]",
      "text/plain": [
       "<Figure size 640x480 with 1 Axes>"
      ]
     },
     "metadata": {},
     "output_type": "display_data"
    }
   ],
   "source": [
    "%matplotlib inline\n",
    "import matplotlib.pyplot as plt\n",
    "plt.hist(incomes,50)\n",
    "plt.show()"
   ]
  },
  {
   "cell_type": "markdown",
   "metadata": {},
   "source": [
    "#### Computing the median - it should be close to 27000 since we have an even distribution"
   ]
  },
  {
   "cell_type": "code",
   "execution_count": 4,
   "metadata": {},
   "outputs": [
    {
     "data": {
      "text/plain": [
       "27133.92205525573"
      ]
     },
     "execution_count": 4,
     "metadata": {},
     "output_type": "execute_result"
    }
   ],
   "source": [
    "np.median(incomes)"
   ]
  },
  {
   "cell_type": "code",
   "execution_count": 5,
   "metadata": {},
   "outputs": [],
   "source": [
    "#add an outlier of Jeff Bezos with an income inequality\n",
    "incomes = np.append(incomes,[1000000000])\n",
    "\n",
    "#note that the median does not change much but the mean does\n"
   ]
  },
  {
   "cell_type": "code",
   "execution_count": 6,
   "metadata": {},
   "outputs": [
    {
     "data": {
      "text/plain": [
       "27134.135993318458"
      ]
     },
     "execution_count": 6,
     "metadata": {},
     "output_type": "execute_result"
    }
   ],
   "source": [
    "np.median(incomes)"
   ]
  },
  {
   "cell_type": "code",
   "execution_count": 7,
   "metadata": {},
   "outputs": [
    {
     "data": {
      "text/plain": [
       "127161.08629864613"
      ]
     },
     "execution_count": 7,
     "metadata": {},
     "output_type": "execute_result"
    }
   ],
   "source": [
    "np.mean(incomes)"
   ]
  },
  {
   "cell_type": "markdown",
   "metadata": {},
   "source": [
    "### Working with mode"
   ]
  },
  {
   "cell_type": "code",
   "execution_count": 10,
   "metadata": {},
   "outputs": [
    {
     "data": {
      "text/plain": [
       "array([32, 72, 88, 81, 43, 72, 39, 76, 66, 35, 54, 70, 33, 33, 54, 58, 69,\n",
       "       87, 28, 25, 82, 53, 35, 43, 63, 23, 63, 61, 44, 34, 56, 55, 45, 20,\n",
       "       30, 46, 89, 50, 64, 29, 72, 57, 19, 82, 24, 48, 88, 63, 82, 69, 20,\n",
       "       60, 44, 46, 24, 39, 35, 22, 50, 31, 44, 82, 34, 80, 54, 77, 23, 51,\n",
       "       49, 71, 52, 53, 27, 87, 42, 49, 67, 52, 43, 35, 85, 37, 79, 55, 44,\n",
       "       40, 63, 63, 67, 79, 47, 78, 26, 82, 21, 79, 27, 73, 39, 85, 29, 48,\n",
       "       37, 83, 67, 70, 86, 53, 21, 64, 20, 39, 48, 70, 19, 52, 38, 60, 52,\n",
       "       77, 72, 63, 71, 28, 33, 68, 82, 42, 28, 78, 88, 83, 80, 79, 36, 82,\n",
       "       37, 84, 22, 89, 20, 47, 80, 30, 66, 59, 24, 48, 84, 60, 24, 75, 32,\n",
       "       66, 44, 59, 59, 81, 62, 24, 38, 49, 80, 69, 49, 25, 65, 83, 73, 43,\n",
       "       51, 87, 38, 50, 23, 88, 25, 37, 69, 49, 72, 29, 51, 34, 64, 69, 18,\n",
       "       44, 28, 68, 33, 43, 26, 85, 68, 19, 30, 19, 78, 56, 41, 69, 87, 32,\n",
       "       23, 74, 40, 68, 71, 27, 30, 23, 55, 78, 73, 55, 67, 62, 42, 42, 60,\n",
       "       65, 72, 21, 74, 81, 31, 78, 26, 80, 80, 32, 84, 86, 85, 52, 46, 85,\n",
       "       61, 44, 87, 45, 36, 38, 37, 27, 77, 58, 70, 74, 37, 89, 46, 64, 71,\n",
       "       34, 83, 51, 61, 64, 34, 59, 60, 73, 85, 68, 66, 68, 28, 43, 26, 55,\n",
       "       24, 18, 82, 22, 25, 31, 80, 85, 48, 37, 82, 58, 77, 80, 77, 48, 77,\n",
       "       64, 86, 33, 37, 60, 64, 30, 33, 32, 67, 82, 81, 61, 45, 23, 86, 70,\n",
       "       53, 22, 50, 38, 43, 43, 24, 20, 25, 23, 89, 49, 77, 68, 66, 65, 83,\n",
       "       82, 21, 28, 78, 61, 25, 89, 74, 19, 83, 82, 39, 28, 88, 83, 86, 25,\n",
       "       87, 44, 65, 63, 73, 23, 77, 73, 86, 28, 86, 81, 83, 44, 28, 24, 70,\n",
       "       85, 67, 42, 58, 55, 89, 26, 52, 71, 36, 86, 74, 31, 62, 33, 69, 76,\n",
       "       46, 72, 38, 47, 24, 28, 64, 87, 34, 59, 64, 40, 50, 33, 62, 18, 48,\n",
       "       56, 37, 73, 38, 70, 76, 86, 25, 88, 62, 44, 62, 76, 72, 82, 38, 63,\n",
       "       21, 77, 49, 62, 26, 47, 30, 70, 24, 57, 22, 79, 84, 35, 32, 42, 28,\n",
       "       41, 31, 74, 42, 74, 38, 22, 22, 79, 61, 85, 36, 73, 71, 40, 45, 46,\n",
       "       51, 53, 58, 71, 19, 75, 72, 71, 70, 59, 63, 62, 57, 28, 39, 70, 20,\n",
       "       31, 39, 29, 29, 55, 38, 82, 44, 73, 49, 51, 88, 25, 47, 40, 86, 83,\n",
       "       37, 89, 46, 81, 74, 60, 19, 75, 48, 18, 67, 32, 41, 89, 46, 71, 64,\n",
       "       73, 45, 71, 58, 24, 37, 79])"
      ]
     },
     "execution_count": 10,
     "metadata": {},
     "output_type": "execute_result"
    }
   ],
   "source": [
    "#Let us generate some fake age data for 500 people\n",
    "\n",
    "ages = np.random.randint(18, high=90, size=500)\n",
    "ages"
   ]
  },
  {
   "cell_type": "code",
   "execution_count": 11,
   "metadata": {},
   "outputs": [
    {
     "data": {
      "text/plain": [
       "ModeResult(mode=82, count=14)"
      ]
     },
     "execution_count": 11,
     "metadata": {},
     "output_type": "execute_result"
    }
   ],
   "source": [
    "#using the scipy stats module\n",
    "from scipy import stats\n",
    "stats.mode(ages)"
   ]
  },
  {
   "cell_type": "markdown",
   "metadata": {},
   "source": [
    "### Exercise: Mean, Median and Mode Customer Spend\n",
    "\n",
    "Consider the generated random e-commerce data; just an array of total amount spent per transaction.  Find the mean and median of this data in the code block that follows. \n",
    "\n",
    "Extend by adding some outliers and show the effect this has on median and mode"
   ]
  },
  {
   "cell_type": "code",
   "execution_count": 12,
   "metadata": {},
   "outputs": [
    {
     "data": {
      "image/png": "[encoded data removed]",
      "text/plain": [
       "<Figure size 640x480 with 1 Axes>"
      ]
     },
     "metadata": {},
     "output_type": "display_data"
    }
   ],
   "source": [
    "incomes = np.random.normal(100.0, 20.0, 10000)\n",
    "plt.hist(incomes, 50)\n",
    "plt.show()"
   ]
  },
  {
   "cell_type": "code",
   "execution_count": 13,
   "metadata": {},
   "outputs": [
    {
     "name": "stdout",
     "output_type": "stream",
     "text": [
      "Mean income: 100.30970269792262 | Median income: 100.17741522938012\n"
     ]
    }
   ],
   "source": [
    "#Mean\n",
    "mean_income = np.mean(incomes)\n",
    "median_income = np.median(incomes)\n",
    "\n",
    "print(f'Mean income: {mean_income} | Median income: {median_income}')"
   ]
  },
  {
   "cell_type": "code",
   "execution_count": 16,
   "metadata": {},
   "outputs": [
    {
     "name": "stdout",
     "output_type": "stream",
     "text": [
      "Mean income: 154.17094884396306 | Median income: 100.19598208655773\n"
     ]
    }
   ],
   "source": [
    "#adding some outliners\n",
    "incomes = np.append(incomes, [50000, 30000, 100000])\n",
    "\n",
    "#recalculate mean and median\n",
    "mean_income = np.mean(incomes)\n",
    "median_income = np.median(incomes)\n",
    "\n",
    "print(f'Mean income: {mean_income} | Median income: {median_income}')"
   ]
  }
 ],
 "metadata": {
  "kernelspec": {
   "display_name": "base",
   "language": "python",
   "name": "python3"
  },
  "language_info": {
   "codemirror_mode": {
    "name": "ipython",
    "version": 3
   },
   "file_extension": ".py",
   "mimetype": "text/x-python",
   "name": "python",
   "nbconvert_exporter": "python",
   "pygments_lexer": "ipython3",
   "version": "3.11.5"
  }
 },
 "nbformat": 4,
 "nbformat_minor": 2
}
